{
 "cells": [
  {
   "cell_type": "code",
   "execution_count": 1,
   "metadata": {},
   "outputs": [],
   "source": [
    "import pandas as pd\n",
    "import matplotlib.pyplot as plt\n",
    "import seaborn as sns"
   ]
  },
  {
   "cell_type": "code",
   "execution_count": 2,
   "metadata": {},
   "outputs": [],
   "source": [
    "train = pd.read_csv(\"train.csv\")\n",
    "test = pd.read_csv('test.csv')\n",
    "samp = pd.read_csv('sample_submission.csv')"
   ]
  },
  {
   "cell_type": "markdown",
   "metadata": {},
   "source": [
    "## Data\n",
    "\n",
    "The dataset comprises 3 files:\n",
    "\n",
    "    **Train.csv: **[10000 x 12 excluding the headers] contains Training data\n",
    "    **Test.csv: **[2500 x 11 excluding the headers] contains Test data\n",
    "    **sample_submission.csv: **contains a sample of the format in which the Results.csv needs to be\n",
    "\n",
    "Columns \tDescription\n",
    "1. Accident_ID \tunique id assigned to each row\n",
    "2. Accident_Type_Code \tthe type of accident (factor, not numeric)\n",
    "3. Cabin_Temperature \tthe last recorded temperature before the incident, measured in degrees fahrenheit\n",
    "4. Turbulence_In_gforces \tthe recorded/estimated turbulence experienced during the accident\n",
    "5. Control_Metric \tan estimation of how much control the pilot had during the incident given the factors at play\n",
    "6. Total_Safety_Complaints \tnumber of complaints from mechanics prior to the accident\n",
    "7. Days_Since_Inspection \thow long the plane went without inspection before the incident\n",
    "8. Safety_Score \ta measure of how safe the plane was deemed to be\n",
    "9. Violations \tnumber of violations that the aircraft received during inspections\n",
    "10. Severity  \t(Highly_Fatal_And_Damaging,\n",
    "Significant_Damage_And_Serious_Injuries,\n",
    "Minor_Damage_And_Injuries,\n",
    "Significant_Damage_And_Fatalities) \ta description (4 level factor) on the severity of the crash [Target]\n",
    "\n",
    "    Target: Severity\n"
   ]
  },
  {
   "cell_type": "markdown",
   "metadata": {},
   "source": [
    "### Le's start by loading the datasets "
   ]
  },
  {
   "cell_type": "code",
   "execution_count": 3,
   "metadata": {},
   "outputs": [
    {
     "data": {
      "text/html": [
       "<div>\n",
       "<style scoped>\n",
       "    .dataframe tbody tr th:only-of-type {\n",
       "        vertical-align: middle;\n",
       "    }\n",
       "\n",
       "    .dataframe tbody tr th {\n",
       "        vertical-align: top;\n",
       "    }\n",
       "\n",
       "    .dataframe thead th {\n",
       "        text-align: right;\n",
       "    }\n",
       "</style>\n",
       "<table border=\"1\" class=\"dataframe\">\n",
       "  <thead>\n",
       "    <tr style=\"text-align: right;\">\n",
       "      <th></th>\n",
       "      <th>Severity</th>\n",
       "      <th>Safety_Score</th>\n",
       "      <th>Days_Since_Inspection</th>\n",
       "      <th>Total_Safety_Complaints</th>\n",
       "      <th>Control_Metric</th>\n",
       "      <th>Turbulence_In_gforces</th>\n",
       "      <th>Cabin_Temperature</th>\n",
       "      <th>Accident_Type_Code</th>\n",
       "      <th>Max_Elevation</th>\n",
       "      <th>Violations</th>\n",
       "      <th>Adverse_Weather_Metric</th>\n",
       "      <th>Accident_ID</th>\n",
       "    </tr>\n",
       "  </thead>\n",
       "  <tbody>\n",
       "    <tr>\n",
       "      <th>0</th>\n",
       "      <td>Minor_Damage_And_Injuries</td>\n",
       "      <td>49.223744</td>\n",
       "      <td>14</td>\n",
       "      <td>22</td>\n",
       "      <td>71.285324</td>\n",
       "      <td>0.272118</td>\n",
       "      <td>78.04</td>\n",
       "      <td>2</td>\n",
       "      <td>31335.476824</td>\n",
       "      <td>3</td>\n",
       "      <td>0.424352</td>\n",
       "      <td>7570</td>\n",
       "    </tr>\n",
       "    <tr>\n",
       "      <th>1</th>\n",
       "      <td>Minor_Damage_And_Injuries</td>\n",
       "      <td>62.465753</td>\n",
       "      <td>10</td>\n",
       "      <td>27</td>\n",
       "      <td>72.288058</td>\n",
       "      <td>0.423939</td>\n",
       "      <td>84.54</td>\n",
       "      <td>2</td>\n",
       "      <td>26024.711057</td>\n",
       "      <td>2</td>\n",
       "      <td>0.352350</td>\n",
       "      <td>12128</td>\n",
       "    </tr>\n",
       "    <tr>\n",
       "      <th>2</th>\n",
       "      <td>Significant_Damage_And_Fatalities</td>\n",
       "      <td>63.059361</td>\n",
       "      <td>13</td>\n",
       "      <td>16</td>\n",
       "      <td>66.362808</td>\n",
       "      <td>0.322604</td>\n",
       "      <td>78.86</td>\n",
       "      <td>7</td>\n",
       "      <td>39269.053927</td>\n",
       "      <td>3</td>\n",
       "      <td>0.003364</td>\n",
       "      <td>2181</td>\n",
       "    </tr>\n",
       "    <tr>\n",
       "      <th>3</th>\n",
       "      <td>Significant_Damage_And_Serious_Injuries</td>\n",
       "      <td>48.082192</td>\n",
       "      <td>11</td>\n",
       "      <td>9</td>\n",
       "      <td>74.703737</td>\n",
       "      <td>0.337029</td>\n",
       "      <td>81.79</td>\n",
       "      <td>3</td>\n",
       "      <td>42771.499200</td>\n",
       "      <td>1</td>\n",
       "      <td>0.211728</td>\n",
       "      <td>5946</td>\n",
       "    </tr>\n",
       "    <tr>\n",
       "      <th>4</th>\n",
       "      <td>Significant_Damage_And_Fatalities</td>\n",
       "      <td>26.484018</td>\n",
       "      <td>13</td>\n",
       "      <td>25</td>\n",
       "      <td>47.948952</td>\n",
       "      <td>0.541140</td>\n",
       "      <td>77.16</td>\n",
       "      <td>3</td>\n",
       "      <td>35509.228515</td>\n",
       "      <td>2</td>\n",
       "      <td>0.176883</td>\n",
       "      <td>9054</td>\n",
       "    </tr>\n",
       "  </tbody>\n",
       "</table>\n",
       "</div>"
      ],
      "text/plain": [
       "                                  Severity  Safety_Score  \\\n",
       "0                Minor_Damage_And_Injuries     49.223744   \n",
       "1                Minor_Damage_And_Injuries     62.465753   \n",
       "2        Significant_Damage_And_Fatalities     63.059361   \n",
       "3  Significant_Damage_And_Serious_Injuries     48.082192   \n",
       "4        Significant_Damage_And_Fatalities     26.484018   \n",
       "\n",
       "   Days_Since_Inspection  Total_Safety_Complaints  Control_Metric  \\\n",
       "0                     14                       22       71.285324   \n",
       "1                     10                       27       72.288058   \n",
       "2                     13                       16       66.362808   \n",
       "3                     11                        9       74.703737   \n",
       "4                     13                       25       47.948952   \n",
       "\n",
       "   Turbulence_In_gforces  Cabin_Temperature  Accident_Type_Code  \\\n",
       "0               0.272118              78.04                   2   \n",
       "1               0.423939              84.54                   2   \n",
       "2               0.322604              78.86                   7   \n",
       "3               0.337029              81.79                   3   \n",
       "4               0.541140              77.16                   3   \n",
       "\n",
       "   Max_Elevation  Violations  Adverse_Weather_Metric  Accident_ID  \n",
       "0   31335.476824           3                0.424352         7570  \n",
       "1   26024.711057           2                0.352350        12128  \n",
       "2   39269.053927           3                0.003364         2181  \n",
       "3   42771.499200           1                0.211728         5946  \n",
       "4   35509.228515           2                0.176883         9054  "
      ]
     },
     "execution_count": 3,
     "metadata": {},
     "output_type": "execute_result"
    }
   ],
   "source": [
    "train.head()"
   ]
  },
  {
   "cell_type": "code",
   "execution_count": 4,
   "metadata": {},
   "outputs": [
    {
     "data": {
      "text/html": [
       "<div>\n",
       "<style scoped>\n",
       "    .dataframe tbody tr th:only-of-type {\n",
       "        vertical-align: middle;\n",
       "    }\n",
       "\n",
       "    .dataframe tbody tr th {\n",
       "        vertical-align: top;\n",
       "    }\n",
       "\n",
       "    .dataframe thead th {\n",
       "        text-align: right;\n",
       "    }\n",
       "</style>\n",
       "<table border=\"1\" class=\"dataframe\">\n",
       "  <thead>\n",
       "    <tr style=\"text-align: right;\">\n",
       "      <th></th>\n",
       "      <th>Safety_Score</th>\n",
       "      <th>Days_Since_Inspection</th>\n",
       "      <th>Total_Safety_Complaints</th>\n",
       "      <th>Control_Metric</th>\n",
       "      <th>Turbulence_In_gforces</th>\n",
       "      <th>Cabin_Temperature</th>\n",
       "      <th>Accident_Type_Code</th>\n",
       "      <th>Max_Elevation</th>\n",
       "      <th>Violations</th>\n",
       "      <th>Adverse_Weather_Metric</th>\n",
       "      <th>Accident_ID</th>\n",
       "    </tr>\n",
       "  </thead>\n",
       "  <tbody>\n",
       "    <tr>\n",
       "      <th>0</th>\n",
       "      <td>19.497717</td>\n",
       "      <td>16</td>\n",
       "      <td>6</td>\n",
       "      <td>72.151322</td>\n",
       "      <td>0.388959</td>\n",
       "      <td>78.32</td>\n",
       "      <td>4</td>\n",
       "      <td>37949.724386</td>\n",
       "      <td>2</td>\n",
       "      <td>0.069692</td>\n",
       "      <td>1</td>\n",
       "    </tr>\n",
       "    <tr>\n",
       "      <th>1</th>\n",
       "      <td>58.173516</td>\n",
       "      <td>15</td>\n",
       "      <td>3</td>\n",
       "      <td>64.585232</td>\n",
       "      <td>0.250841</td>\n",
       "      <td>78.60</td>\n",
       "      <td>7</td>\n",
       "      <td>30194.805567</td>\n",
       "      <td>2</td>\n",
       "      <td>0.002777</td>\n",
       "      <td>10</td>\n",
       "    </tr>\n",
       "    <tr>\n",
       "      <th>2</th>\n",
       "      <td>33.287671</td>\n",
       "      <td>15</td>\n",
       "      <td>3</td>\n",
       "      <td>64.721969</td>\n",
       "      <td>0.336669</td>\n",
       "      <td>86.96</td>\n",
       "      <td>6</td>\n",
       "      <td>17572.925484</td>\n",
       "      <td>1</td>\n",
       "      <td>0.004316</td>\n",
       "      <td>14</td>\n",
       "    </tr>\n",
       "    <tr>\n",
       "      <th>3</th>\n",
       "      <td>3.287671</td>\n",
       "      <td>21</td>\n",
       "      <td>5</td>\n",
       "      <td>66.362808</td>\n",
       "      <td>0.421775</td>\n",
       "      <td>80.86</td>\n",
       "      <td>3</td>\n",
       "      <td>40209.186341</td>\n",
       "      <td>2</td>\n",
       "      <td>0.199990</td>\n",
       "      <td>17</td>\n",
       "    </tr>\n",
       "    <tr>\n",
       "      <th>4</th>\n",
       "      <td>10.867580</td>\n",
       "      <td>18</td>\n",
       "      <td>2</td>\n",
       "      <td>56.107566</td>\n",
       "      <td>0.313228</td>\n",
       "      <td>79.22</td>\n",
       "      <td>2</td>\n",
       "      <td>35495.525408</td>\n",
       "      <td>2</td>\n",
       "      <td>0.483696</td>\n",
       "      <td>21</td>\n",
       "    </tr>\n",
       "  </tbody>\n",
       "</table>\n",
       "</div>"
      ],
      "text/plain": [
       "   Safety_Score  Days_Since_Inspection  Total_Safety_Complaints  \\\n",
       "0     19.497717                     16                        6   \n",
       "1     58.173516                     15                        3   \n",
       "2     33.287671                     15                        3   \n",
       "3      3.287671                     21                        5   \n",
       "4     10.867580                     18                        2   \n",
       "\n",
       "   Control_Metric  Turbulence_In_gforces  Cabin_Temperature  \\\n",
       "0       72.151322               0.388959              78.32   \n",
       "1       64.585232               0.250841              78.60   \n",
       "2       64.721969               0.336669              86.96   \n",
       "3       66.362808               0.421775              80.86   \n",
       "4       56.107566               0.313228              79.22   \n",
       "\n",
       "   Accident_Type_Code  Max_Elevation  Violations  Adverse_Weather_Metric  \\\n",
       "0                   4   37949.724386           2                0.069692   \n",
       "1                   7   30194.805567           2                0.002777   \n",
       "2                   6   17572.925484           1                0.004316   \n",
       "3                   3   40209.186341           2                0.199990   \n",
       "4                   2   35495.525408           2                0.483696   \n",
       "\n",
       "   Accident_ID  \n",
       "0            1  \n",
       "1           10  \n",
       "2           14  \n",
       "3           17  \n",
       "4           21  "
      ]
     },
     "execution_count": 4,
     "metadata": {},
     "output_type": "execute_result"
    }
   ],
   "source": [
    "test.head()"
   ]
  },
  {
   "cell_type": "markdown",
   "metadata": {},
   "source": [
    "## 1. Exploratory Data Analysis"
   ]
  },
  {
   "cell_type": "code",
   "execution_count": 5,
   "metadata": {},
   "outputs": [
    {
     "data": {
      "text/html": [
       "<div>\n",
       "<style scoped>\n",
       "    .dataframe tbody tr th:only-of-type {\n",
       "        vertical-align: middle;\n",
       "    }\n",
       "\n",
       "    .dataframe tbody tr th {\n",
       "        vertical-align: top;\n",
       "    }\n",
       "\n",
       "    .dataframe thead th {\n",
       "        text-align: right;\n",
       "    }\n",
       "</style>\n",
       "<table border=\"1\" class=\"dataframe\">\n",
       "  <thead>\n",
       "    <tr style=\"text-align: right;\">\n",
       "      <th></th>\n",
       "      <th>0</th>\n",
       "    </tr>\n",
       "  </thead>\n",
       "  <tbody>\n",
       "    <tr>\n",
       "      <th>0</th>\n",
       "      <td>Severity</td>\n",
       "    </tr>\n",
       "    <tr>\n",
       "      <th>1</th>\n",
       "      <td>Safety_Score</td>\n",
       "    </tr>\n",
       "    <tr>\n",
       "      <th>2</th>\n",
       "      <td>Days_Since_Inspection</td>\n",
       "    </tr>\n",
       "    <tr>\n",
       "      <th>3</th>\n",
       "      <td>Total_Safety_Complaints</td>\n",
       "    </tr>\n",
       "    <tr>\n",
       "      <th>4</th>\n",
       "      <td>Control_Metric</td>\n",
       "    </tr>\n",
       "    <tr>\n",
       "      <th>5</th>\n",
       "      <td>Turbulence_In_gforces</td>\n",
       "    </tr>\n",
       "    <tr>\n",
       "      <th>6</th>\n",
       "      <td>Cabin_Temperature</td>\n",
       "    </tr>\n",
       "    <tr>\n",
       "      <th>7</th>\n",
       "      <td>Accident_Type_Code</td>\n",
       "    </tr>\n",
       "    <tr>\n",
       "      <th>8</th>\n",
       "      <td>Max_Elevation</td>\n",
       "    </tr>\n",
       "    <tr>\n",
       "      <th>9</th>\n",
       "      <td>Violations</td>\n",
       "    </tr>\n",
       "    <tr>\n",
       "      <th>10</th>\n",
       "      <td>Adverse_Weather_Metric</td>\n",
       "    </tr>\n",
       "    <tr>\n",
       "      <th>11</th>\n",
       "      <td>Accident_ID</td>\n",
       "    </tr>\n",
       "  </tbody>\n",
       "</table>\n",
       "</div>"
      ],
      "text/plain": [
       "                          0\n",
       "0                  Severity\n",
       "1              Safety_Score\n",
       "2     Days_Since_Inspection\n",
       "3   Total_Safety_Complaints\n",
       "4            Control_Metric\n",
       "5     Turbulence_In_gforces\n",
       "6         Cabin_Temperature\n",
       "7        Accident_Type_Code\n",
       "8             Max_Elevation\n",
       "9                Violations\n",
       "10   Adverse_Weather_Metric\n",
       "11              Accident_ID"
      ]
     },
     "execution_count": 5,
     "metadata": {},
     "output_type": "execute_result"
    }
   ],
   "source": [
    "train.columns.to_frame(index=False)"
   ]
  },
  {
   "cell_type": "code",
   "execution_count": 6,
   "metadata": {},
   "outputs": [
    {
     "data": {
      "text/html": [
       "<div>\n",
       "<style scoped>\n",
       "    .dataframe tbody tr th:only-of-type {\n",
       "        vertical-align: middle;\n",
       "    }\n",
       "\n",
       "    .dataframe tbody tr th {\n",
       "        vertical-align: top;\n",
       "    }\n",
       "\n",
       "    .dataframe thead th {\n",
       "        text-align: right;\n",
       "    }\n",
       "</style>\n",
       "<table border=\"1\" class=\"dataframe\">\n",
       "  <thead>\n",
       "    <tr style=\"text-align: right;\">\n",
       "      <th></th>\n",
       "      <th>0</th>\n",
       "    </tr>\n",
       "  </thead>\n",
       "  <tbody>\n",
       "    <tr>\n",
       "      <th>0</th>\n",
       "      <td>Safety_Score</td>\n",
       "    </tr>\n",
       "    <tr>\n",
       "      <th>1</th>\n",
       "      <td>Days_Since_Inspection</td>\n",
       "    </tr>\n",
       "    <tr>\n",
       "      <th>2</th>\n",
       "      <td>Total_Safety_Complaints</td>\n",
       "    </tr>\n",
       "    <tr>\n",
       "      <th>3</th>\n",
       "      <td>Control_Metric</td>\n",
       "    </tr>\n",
       "    <tr>\n",
       "      <th>4</th>\n",
       "      <td>Turbulence_In_gforces</td>\n",
       "    </tr>\n",
       "    <tr>\n",
       "      <th>5</th>\n",
       "      <td>Cabin_Temperature</td>\n",
       "    </tr>\n",
       "    <tr>\n",
       "      <th>6</th>\n",
       "      <td>Accident_Type_Code</td>\n",
       "    </tr>\n",
       "    <tr>\n",
       "      <th>7</th>\n",
       "      <td>Max_Elevation</td>\n",
       "    </tr>\n",
       "    <tr>\n",
       "      <th>8</th>\n",
       "      <td>Violations</td>\n",
       "    </tr>\n",
       "    <tr>\n",
       "      <th>9</th>\n",
       "      <td>Adverse_Weather_Metric</td>\n",
       "    </tr>\n",
       "    <tr>\n",
       "      <th>10</th>\n",
       "      <td>Accident_ID</td>\n",
       "    </tr>\n",
       "  </tbody>\n",
       "</table>\n",
       "</div>"
      ],
      "text/plain": [
       "                          0\n",
       "0              Safety_Score\n",
       "1     Days_Since_Inspection\n",
       "2   Total_Safety_Complaints\n",
       "3            Control_Metric\n",
       "4     Turbulence_In_gforces\n",
       "5         Cabin_Temperature\n",
       "6        Accident_Type_Code\n",
       "7             Max_Elevation\n",
       "8                Violations\n",
       "9    Adverse_Weather_Metric\n",
       "10              Accident_ID"
      ]
     },
     "execution_count": 6,
     "metadata": {},
     "output_type": "execute_result"
    }
   ],
   "source": [
    "test.columns.to_frame(index=False)"
   ]
  },
  {
   "cell_type": "markdown",
   "metadata": {},
   "source": [
    " **This display the  column labels of the DataFrame.**\n"
   ]
  },
  {
   "cell_type": "code",
   "execution_count": 7,
   "metadata": {},
   "outputs": [
    {
     "name": "stdout",
     "output_type": "stream",
     "text": [
      "<class 'pandas.core.frame.DataFrame'>\n",
      "RangeIndex: 10000 entries, 0 to 9999\n",
      "Data columns (total 12 columns):\n",
      " #   Column                   Non-Null Count  Dtype  \n",
      "---  ------                   --------------  -----  \n",
      " 0   Severity                 10000 non-null  object \n",
      " 1   Safety_Score             10000 non-null  float64\n",
      " 2   Days_Since_Inspection    10000 non-null  int64  \n",
      " 3   Total_Safety_Complaints  10000 non-null  int64  \n",
      " 4   Control_Metric           10000 non-null  float64\n",
      " 5   Turbulence_In_gforces    10000 non-null  float64\n",
      " 6   Cabin_Temperature        10000 non-null  float64\n",
      " 7   Accident_Type_Code       10000 non-null  int64  \n",
      " 8   Max_Elevation            10000 non-null  float64\n",
      " 9   Violations               10000 non-null  int64  \n",
      " 10  Adverse_Weather_Metric   10000 non-null  float64\n",
      " 11  Accident_ID              10000 non-null  int64  \n",
      "dtypes: float64(6), int64(5), object(1)\n",
      "memory usage: 937.6+ KB\n"
     ]
    }
   ],
   "source": [
    "train.info()"
   ]
  },
  {
   "cell_type": "markdown",
   "metadata": {},
   "source": [
    "**This method prints information about a DataFrame including the index dtype and columns, non-null values and memory usage.**"
   ]
  },
  {
   "cell_type": "code",
   "execution_count": 8,
   "metadata": {},
   "outputs": [
    {
     "data": {
      "text/html": [
       "<div>\n",
       "<style scoped>\n",
       "    .dataframe tbody tr th:only-of-type {\n",
       "        vertical-align: middle;\n",
       "    }\n",
       "\n",
       "    .dataframe tbody tr th {\n",
       "        vertical-align: top;\n",
       "    }\n",
       "\n",
       "    .dataframe thead th {\n",
       "        text-align: right;\n",
       "    }\n",
       "</style>\n",
       "<table border=\"1\" class=\"dataframe\">\n",
       "  <thead>\n",
       "    <tr style=\"text-align: right;\">\n",
       "      <th></th>\n",
       "      <th>count</th>\n",
       "      <th>mean</th>\n",
       "      <th>std</th>\n",
       "      <th>min</th>\n",
       "      <th>25%</th>\n",
       "      <th>50%</th>\n",
       "      <th>75%</th>\n",
       "      <th>max</th>\n",
       "    </tr>\n",
       "  </thead>\n",
       "  <tbody>\n",
       "    <tr>\n",
       "      <th>Safety_Score</th>\n",
       "      <td>10000.0</td>\n",
       "      <td>41.876406</td>\n",
       "      <td>16.138072</td>\n",
       "      <td>0.000000</td>\n",
       "      <td>30.593607</td>\n",
       "      <td>41.278539</td>\n",
       "      <td>52.511416</td>\n",
       "      <td>100.000000</td>\n",
       "    </tr>\n",
       "    <tr>\n",
       "      <th>Days_Since_Inspection</th>\n",
       "      <td>10000.0</td>\n",
       "      <td>12.931100</td>\n",
       "      <td>3.539803</td>\n",
       "      <td>1.000000</td>\n",
       "      <td>11.000000</td>\n",
       "      <td>13.000000</td>\n",
       "      <td>15.000000</td>\n",
       "      <td>23.000000</td>\n",
       "    </tr>\n",
       "    <tr>\n",
       "      <th>Total_Safety_Complaints</th>\n",
       "      <td>10000.0</td>\n",
       "      <td>6.564300</td>\n",
       "      <td>6.971982</td>\n",
       "      <td>0.000000</td>\n",
       "      <td>2.000000</td>\n",
       "      <td>4.000000</td>\n",
       "      <td>9.000000</td>\n",
       "      <td>54.000000</td>\n",
       "    </tr>\n",
       "    <tr>\n",
       "      <th>Control_Metric</th>\n",
       "      <td>10000.0</td>\n",
       "      <td>65.145324</td>\n",
       "      <td>11.882934</td>\n",
       "      <td>0.000000</td>\n",
       "      <td>56.927985</td>\n",
       "      <td>65.587967</td>\n",
       "      <td>73.336372</td>\n",
       "      <td>100.000000</td>\n",
       "    </tr>\n",
       "    <tr>\n",
       "      <th>Turbulence_In_gforces</th>\n",
       "      <td>10000.0</td>\n",
       "      <td>0.381495</td>\n",
       "      <td>0.121301</td>\n",
       "      <td>0.134000</td>\n",
       "      <td>0.293665</td>\n",
       "      <td>0.365879</td>\n",
       "      <td>0.451346</td>\n",
       "      <td>0.882648</td>\n",
       "    </tr>\n",
       "    <tr>\n",
       "      <th>Cabin_Temperature</th>\n",
       "      <td>10000.0</td>\n",
       "      <td>79.969331</td>\n",
       "      <td>2.759739</td>\n",
       "      <td>74.740000</td>\n",
       "      <td>77.960000</td>\n",
       "      <td>79.540000</td>\n",
       "      <td>81.560000</td>\n",
       "      <td>97.510000</td>\n",
       "    </tr>\n",
       "    <tr>\n",
       "      <th>Accident_Type_Code</th>\n",
       "      <td>10000.0</td>\n",
       "      <td>3.814900</td>\n",
       "      <td>1.902577</td>\n",
       "      <td>1.000000</td>\n",
       "      <td>2.000000</td>\n",
       "      <td>4.000000</td>\n",
       "      <td>5.000000</td>\n",
       "      <td>7.000000</td>\n",
       "    </tr>\n",
       "    <tr>\n",
       "      <th>Max_Elevation</th>\n",
       "      <td>10000.0</td>\n",
       "      <td>32001.803282</td>\n",
       "      <td>9431.995196</td>\n",
       "      <td>831.695553</td>\n",
       "      <td>25757.636908</td>\n",
       "      <td>32060.336419</td>\n",
       "      <td>38380.641513</td>\n",
       "      <td>64297.651218</td>\n",
       "    </tr>\n",
       "    <tr>\n",
       "      <th>Violations</th>\n",
       "      <td>10000.0</td>\n",
       "      <td>2.012200</td>\n",
       "      <td>1.039980</td>\n",
       "      <td>0.000000</td>\n",
       "      <td>1.000000</td>\n",
       "      <td>2.000000</td>\n",
       "      <td>3.000000</td>\n",
       "      <td>5.000000</td>\n",
       "    </tr>\n",
       "    <tr>\n",
       "      <th>Adverse_Weather_Metric</th>\n",
       "      <td>10000.0</td>\n",
       "      <td>0.255635</td>\n",
       "      <td>0.381128</td>\n",
       "      <td>0.000316</td>\n",
       "      <td>0.012063</td>\n",
       "      <td>0.074467</td>\n",
       "      <td>0.354059</td>\n",
       "      <td>2.365378</td>\n",
       "    </tr>\n",
       "    <tr>\n",
       "      <th>Accident_ID</th>\n",
       "      <td>10000.0</td>\n",
       "      <td>6266.554200</td>\n",
       "      <td>3610.170288</td>\n",
       "      <td>2.000000</td>\n",
       "      <td>3139.750000</td>\n",
       "      <td>6280.500000</td>\n",
       "      <td>9391.500000</td>\n",
       "      <td>12500.000000</td>\n",
       "    </tr>\n",
       "  </tbody>\n",
       "</table>\n",
       "</div>"
      ],
      "text/plain": [
       "                           count          mean          std         min  \\\n",
       "Safety_Score             10000.0     41.876406    16.138072    0.000000   \n",
       "Days_Since_Inspection    10000.0     12.931100     3.539803    1.000000   \n",
       "Total_Safety_Complaints  10000.0      6.564300     6.971982    0.000000   \n",
       "Control_Metric           10000.0     65.145324    11.882934    0.000000   \n",
       "Turbulence_In_gforces    10000.0      0.381495     0.121301    0.134000   \n",
       "Cabin_Temperature        10000.0     79.969331     2.759739   74.740000   \n",
       "Accident_Type_Code       10000.0      3.814900     1.902577    1.000000   \n",
       "Max_Elevation            10000.0  32001.803282  9431.995196  831.695553   \n",
       "Violations               10000.0      2.012200     1.039980    0.000000   \n",
       "Adverse_Weather_Metric   10000.0      0.255635     0.381128    0.000316   \n",
       "Accident_ID              10000.0   6266.554200  3610.170288    2.000000   \n",
       "\n",
       "                                  25%           50%           75%  \\\n",
       "Safety_Score                30.593607     41.278539     52.511416   \n",
       "Days_Since_Inspection       11.000000     13.000000     15.000000   \n",
       "Total_Safety_Complaints      2.000000      4.000000      9.000000   \n",
       "Control_Metric              56.927985     65.587967     73.336372   \n",
       "Turbulence_In_gforces        0.293665      0.365879      0.451346   \n",
       "Cabin_Temperature           77.960000     79.540000     81.560000   \n",
       "Accident_Type_Code           2.000000      4.000000      5.000000   \n",
       "Max_Elevation            25757.636908  32060.336419  38380.641513   \n",
       "Violations                   1.000000      2.000000      3.000000   \n",
       "Adverse_Weather_Metric       0.012063      0.074467      0.354059   \n",
       "Accident_ID               3139.750000   6280.500000   9391.500000   \n",
       "\n",
       "                                  max  \n",
       "Safety_Score               100.000000  \n",
       "Days_Since_Inspection       23.000000  \n",
       "Total_Safety_Complaints     54.000000  \n",
       "Control_Metric             100.000000  \n",
       "Turbulence_In_gforces        0.882648  \n",
       "Cabin_Temperature           97.510000  \n",
       "Accident_Type_Code           7.000000  \n",
       "Max_Elevation            64297.651218  \n",
       "Violations                   5.000000  \n",
       "Adverse_Weather_Metric       2.365378  \n",
       "Accident_ID              12500.000000  "
      ]
     },
     "execution_count": 8,
     "metadata": {},
     "output_type": "execute_result"
    }
   ],
   "source": [
    "train.describe().T"
   ]
  },
  {
   "cell_type": "markdown",
   "metadata": {},
   "source": [
    "**Descriptive statistics include those that summarize the central\n",
    "tendency, dispersion and shape of a\n",
    "dataset's distribution, excluding ``NaN`` values. <br>\n",
    "Analyzes both numeric and object series, as well\n",
    "as ``DataFrame`` column sets of mixed data types. The output\n",
    "will vary depending on what is provided. Refer to the notes\n",
    "below for more detail.**<br>\n",
    "The T is used to transpose the output of describe."
   ]
  },
  {
   "cell_type": "code",
   "execution_count": 9,
   "metadata": {},
   "outputs": [
    {
     "data": {
      "text/plain": [
       "array(['Minor_Damage_And_Injuries', 'Significant_Damage_And_Fatalities',\n",
       "       'Significant_Damage_And_Serious_Injuries',\n",
       "       'Highly_Fatal_And_Damaging'], dtype=object)"
      ]
     },
     "execution_count": 9,
     "metadata": {},
     "output_type": "execute_result"
    }
   ],
   "source": [
    "# Now let's us inspect our target variable.\n",
    "train['Severity'].unique()"
   ]
  },
  {
   "cell_type": "code",
   "execution_count": 10,
   "metadata": {},
   "outputs": [
    {
     "data": {
      "text/plain": [
       "Highly_Fatal_And_Damaging                  3049\n",
       "Significant_Damage_And_Serious_Injuries    2729\n",
       "Minor_Damage_And_Injuries                  2527\n",
       "Significant_Damage_And_Fatalities          1695\n",
       "Name: Severity, dtype: int64"
      ]
     },
     "execution_count": 10,
     "metadata": {},
     "output_type": "execute_result"
    }
   ],
   "source": [
    "train['Severity'].value_counts()"
   ]
  },
  {
   "cell_type": "code",
   "execution_count": 11,
   "metadata": {},
   "outputs": [
    {
     "data": {
      "text/plain": [
       "(array([0, 1, 2, 3]),\n",
       " [Text(0, 0, 'Minor_Damage_And_Injuries'),\n",
       "  Text(1, 0, 'Significant_Damage_And_Fatalities'),\n",
       "  Text(2, 0, 'Significant_Damage_And_Serious_Injuries'),\n",
       "  Text(3, 0, 'Highly_Fatal_And_Damaging')])"
      ]
     },
     "execution_count": 11,
     "metadata": {},
     "output_type": "execute_result"
    },
    {
     "data": {
      "image/png": "[encoded data removed]",
      "text/plain": [
       "<Figure size 360x360 with 1 Axes>"
      ]
     },
     "metadata": {
      "needs_background": "light"
     },
     "output_type": "display_data"
    }
   ],
   "source": [
    "sns.catplot(x='Severity', data = train, kind='count', orient=60)\n",
    "plt.xticks(\n",
    "    rotation=45, \n",
    "    horizontalalignment='right',\n",
    "    fontweight='light',\n",
    "    fontsize='x-large'  \n",
    ")"
   ]
  },
  {
   "cell_type": "code",
   "execution_count": 12,
   "metadata": {},
   "outputs": [
    {
     "data": {
      "text/plain": [
       "Severity                   0\n",
       "Safety_Score               0\n",
       "Days_Since_Inspection      0\n",
       "Total_Safety_Complaints    0\n",
       "Control_Metric             0\n",
       "Turbulence_In_gforces      0\n",
       "Cabin_Temperature          0\n",
       "Accident_Type_Code         0\n",
       "Max_Elevation              0\n",
       "Violations                 0\n",
       "Adverse_Weather_Metric     0\n",
       "Accident_ID                0\n",
       "dtype: int64"
      ]
     },
     "execution_count": 12,
     "metadata": {},
     "output_type": "execute_result"
    }
   ],
   "source": [
    "# now lets check if we have missing values or not\n",
    "train.isna().sum()"
   ]
  },
  {
   "cell_type": "code",
   "execution_count": 13,
   "metadata": {},
   "outputs": [
    {
     "data": {
      "text/plain": [
       "Safety_Score               0\n",
       "Days_Since_Inspection      0\n",
       "Total_Safety_Complaints    0\n",
       "Control_Metric             0\n",
       "Turbulence_In_gforces      0\n",
       "Cabin_Temperature          0\n",
       "Accident_Type_Code         0\n",
       "Max_Elevation              0\n",
       "Violations                 0\n",
       "Adverse_Weather_Metric     0\n",
       "Accident_ID                0\n",
       "dtype: int64"
      ]
     },
     "execution_count": 13,
     "metadata": {},
     "output_type": "execute_result"
    }
   ],
   "source": [
    "test.isna().sum()"
   ]
  },
  {
   "cell_type": "markdown",
   "metadata": {},
   "source": [
    "*we can see here that we are not dilling with missing values which is a good thing in this case*"
   ]
  },
  {
   "cell_type": "code",
   "execution_count": 14,
   "metadata": {},
   "outputs": [
    {
     "data": {
      "text/plain": [
       "2    3793\n",
       "1    2398\n",
       "3    2376\n",
       "0     696\n",
       "4     675\n",
       "5      62\n",
       "Name: Violations, dtype: int64"
      ]
     },
     "execution_count": 14,
     "metadata": {},
     "output_type": "execute_result"
    }
   ],
   "source": [
    "train.Violations.value_counts()"
   ]
  },
  {
   "cell_type": "code",
   "execution_count": 15,
   "metadata": {},
   "outputs": [
    {
     "data": {
      "text/plain": [
       "<AxesSubplot:>"
      ]
     },
     "execution_count": 15,
     "metadata": {},
     "output_type": "execute_result"
    },
    {
     "data": {
      "image/png": "[encoded data removed]",
      "text/plain": [
       "<Figure size 864x576 with 2 Axes>"
      ]
     },
     "metadata": {
      "needs_background": "light"
     },
     "output_type": "display_data"
    }
   ],
   "source": [
    "plt.figure(figsize=(12,8))\n",
    "sns.heatmap(train.corr(), annot=True)"
   ]
  },
  {
   "cell_type": "code",
   "execution_count": 16,
   "metadata": {},
   "outputs": [
    {
     "data": {
      "text/plain": [
       "array(['Minor_Damage_And_Injuries', 'Significant_Damage_And_Fatalities',\n",
       "       'Significant_Damage_And_Serious_Injuries',\n",
       "       'Highly_Fatal_And_Damaging'], dtype=object)"
      ]
     },
     "execution_count": 16,
     "metadata": {},
     "output_type": "execute_result"
    }
   ],
   "source": [
    "train.Severity.unique()"
   ]
  },
  {
   "cell_type": "markdown",
   "metadata": {},
   "source": [
    "Our target is a categorical so we have to encode it. "
   ]
  },
  {
   "cell_type": "markdown",
   "metadata": {},
   "source": [
    "### Encoding the target variable"
   ]
  },
  {
   "cell_type": "code",
   "execution_count": 17,
   "metadata": {},
   "outputs": [],
   "source": [
    "from sklearn.preprocessing import LabelEncoder"
   ]
  },
  {
   "cell_type": "code",
   "execution_count": 18,
   "metadata": {},
   "outputs": [],
   "source": [
    "encoder = LabelEncoder()\n",
    "train.Severity = encoder.fit_transform(train.Severity)"
   ]
  },
  {
   "cell_type": "code",
   "execution_count": 19,
   "metadata": {},
   "outputs": [
    {
     "data": {
      "text/plain": [
       "array(['Highly_Fatal_And_Damaging', 'Minor_Damage_And_Injuries',\n",
       "       'Significant_Damage_And_Fatalities',\n",
       "       'Significant_Damage_And_Serious_Injuries'], dtype=object)"
      ]
     },
     "execution_count": 19,
     "metadata": {},
     "output_type": "execute_result"
    }
   ],
   "source": [
    "encoder.classes_"
   ]
  },
  {
   "cell_type": "code",
   "execution_count": 20,
   "metadata": {},
   "outputs": [
    {
     "data": {
      "text/plain": [
       "0    1\n",
       "1    1\n",
       "2    2\n",
       "3    3\n",
       "4    2\n",
       "5    1\n",
       "6    0\n",
       "7    1\n",
       "8    0\n",
       "9    3\n",
       "Name: Severity, dtype: int64"
      ]
     },
     "execution_count": 20,
     "metadata": {},
     "output_type": "execute_result"
    }
   ],
   "source": [
    "train.Severity.head(10)"
   ]
  },
  {
   "cell_type": "markdown",
   "metadata": {},
   "source": [
    "## 2. Feature selection is one of the most import ant part of our machine leanring because it will not only give us good performence model but also it will pay on the cost of computation.\n",
    "Feature Selection is the process where you automatically or manually select those features which contribute most to your prediction variable or output in which you are interested in.\n",
    "\n",
    "Having irrelevant features in your data can decrease the accuracy of the models and make your model learn based on irrelevant features..\n",
    "\n",
    "Univariate Selection\n",
    "Statistical tests can be used to select those independent features that have the strongest relationship with the target feature in your dataset.E.g. Chi squared test."
   ]
  },
  {
   "cell_type": "code",
   "execution_count": 21,
   "metadata": {},
   "outputs": [],
   "source": [
    "from sklearn.tree import ExtraTreeClassifier\n",
    "from sklearn.feature_selection import SelectKBest\n",
    "from sklearn.feature_selection import chi2"
   ]
  },
  {
   "cell_type": "code",
   "execution_count": 22,
   "metadata": {},
   "outputs": [],
   "source": [
    "X = train.drop(\"Severity\",1)\n",
    "y = train.Severity"
   ]
  },
  {
   "cell_type": "code",
   "execution_count": 23,
   "metadata": {},
   "outputs": [
    {
     "name": "stdout",
     "output_type": "stream",
     "text": [
      "                      Specs         Score\n",
      "7             Max_Elevation  37871.221260\n",
      "0              Safety_Score   8552.477911\n",
      "10              Accident_ID   3180.018341\n",
      "3            Control_Metric   1017.270613\n",
      "6        Accident_Type_Code    658.840259\n",
      "9    Adverse_Weather_Metric    160.457298\n",
      "2   Total_Safety_Complaints     53.652473\n",
      "8                Violations     27.817094\n",
      "1     Days_Since_Inspection     23.452196\n",
      "4     Turbulence_In_gforces      6.544339\n",
      "5         Cabin_Temperature      0.426112\n"
     ]
    }
   ],
   "source": [
    "best_features = SelectKBest(score_func=chi2)\n",
    "fit = best_features.fit(X,y)\n",
    "trainscores = pd.DataFrame(fit.scores_)\n",
    "traincolumns = pd.DataFrame(X.columns)\n",
    "#concat two dataframes for better visualization \n",
    "featureScores = pd.concat([traincolumns,trainscores],axis=1)\n",
    "featureScores.columns = ['Specs','Score']  #naming the dataframe columns\n",
    "print(featureScores.nlargest(12,'Score'))  #print 10 best features"
   ]
  },
  {
   "cell_type": "code",
   "execution_count": 24,
   "metadata": {},
   "outputs": [],
   "source": [
    "# another way "
   ]
  },
  {
   "cell_type": "code",
   "execution_count": 25,
   "metadata": {},
   "outputs": [
    {
     "name": "stdout",
     "output_type": "stream",
     "text": [
      "[0.20192928 0.13700651 0.05033996 0.13178854 0.06959329 0.05275124\n",
      " 0.16455004 0.05180508 0.03776641 0.05187047 0.05059917]\n"
     ]
    },
    {
     "data": {
      "image/png": "[encoded data removed]",
      "text/plain": [
       "<Figure size 432x288 with 1 Axes>"
      ]
     },
     "metadata": {
      "needs_background": "light"
     },
     "output_type": "display_data"
    }
   ],
   "source": [
    "model = ExtraTreeClassifier()\n",
    "model.fit(X,y)\n",
    "print(model.feature_importances_) #use inbuilt class feature_importances of tree based classifiers\n",
    "#plot graph of feature importances for better visualization\n",
    "feat_importances = pd.Series(model.feature_importances_, index=X.columns)\n",
    "feat_importances.nlargest(12).plot(kind='barh')\n",
    "plt.show()"
   ]
  },
  {
   "cell_type": "code",
   "execution_count": 26,
   "metadata": {},
   "outputs": [
    {
     "data": {
      "text/html": [
       "<div>\n",
       "<style scoped>\n",
       "    .dataframe tbody tr th:only-of-type {\n",
       "        vertical-align: middle;\n",
       "    }\n",
       "\n",
       "    .dataframe tbody tr th {\n",
       "        vertical-align: top;\n",
       "    }\n",
       "\n",
       "    .dataframe thead th {\n",
       "        text-align: right;\n",
       "    }\n",
       "</style>\n",
       "<table border=\"1\" class=\"dataframe\">\n",
       "  <thead>\n",
       "    <tr style=\"text-align: right;\">\n",
       "      <th></th>\n",
       "      <th>Severity</th>\n",
       "    </tr>\n",
       "  </thead>\n",
       "  <tbody>\n",
       "    <tr>\n",
       "      <th>Severity</th>\n",
       "      <td>1.000000</td>\n",
       "    </tr>\n",
       "    <tr>\n",
       "      <th>Accident_Type_Code</th>\n",
       "      <td>0.212203</td>\n",
       "    </tr>\n",
       "    <tr>\n",
       "      <th>Safety_Score</th>\n",
       "      <td>0.205276</td>\n",
       "    </tr>\n",
       "    <tr>\n",
       "      <th>Adverse_Weather_Metric</th>\n",
       "      <td>0.153946</td>\n",
       "    </tr>\n",
       "    <tr>\n",
       "      <th>Turbulence_In_gforces</th>\n",
       "      <td>0.035977</td>\n",
       "    </tr>\n",
       "    <tr>\n",
       "      <th>Violations</th>\n",
       "      <td>0.026349</td>\n",
       "    </tr>\n",
       "    <tr>\n",
       "      <th>Total_Safety_Complaints</th>\n",
       "      <td>0.010642</td>\n",
       "    </tr>\n",
       "    <tr>\n",
       "      <th>Cabin_Temperature</th>\n",
       "      <td>0.008819</td>\n",
       "    </tr>\n",
       "    <tr>\n",
       "      <th>Accident_ID</th>\n",
       "      <td>0.008583</td>\n",
       "    </tr>\n",
       "    <tr>\n",
       "      <th>Max_Elevation</th>\n",
       "      <td>0.005572</td>\n",
       "    </tr>\n",
       "    <tr>\n",
       "      <th>Days_Since_Inspection</th>\n",
       "      <td>0.001858</td>\n",
       "    </tr>\n",
       "    <tr>\n",
       "      <th>Control_Metric</th>\n",
       "      <td>0.000930</td>\n",
       "    </tr>\n",
       "  </tbody>\n",
       "</table>\n",
       "</div>"
      ],
      "text/plain": [
       "                         Severity\n",
       "Severity                 1.000000\n",
       "Accident_Type_Code       0.212203\n",
       "Safety_Score             0.205276\n",
       "Adverse_Weather_Metric   0.153946\n",
       "Turbulence_In_gforces    0.035977\n",
       "Violations               0.026349\n",
       "Total_Safety_Complaints  0.010642\n",
       "Cabin_Temperature        0.008819\n",
       "Accident_ID              0.008583\n",
       "Max_Elevation            0.005572\n",
       "Days_Since_Inspection    0.001858\n",
       "Control_Metric           0.000930"
      ]
     },
     "execution_count": 26,
     "metadata": {},
     "output_type": "execute_result"
    }
   ],
   "source": [
    "# SHOW CORRELATION OF DATA TO THE TARGET COLUMN \n",
    "features_corr = pd.DataFrame(abs(train.corr()['Severity']).sort_values(ascending = False)) \n",
    "\n",
    "features_corr"
   ]
  },
  {
   "cell_type": "code",
   "execution_count": 27,
   "metadata": {},
   "outputs": [],
   "source": [
    "from sklearn.model_selection import train_test_split\n",
    "from sklearn.linear_model import LogisticRegression"
   ]
  },
  {
   "cell_type": "code",
   "execution_count": 28,
   "metadata": {},
   "outputs": [],
   "source": [
    "X_train, X_test, y_train, y_test = train_test_split(X, y, random_state=0)"
   ]
  },
  {
   "cell_type": "code",
   "execution_count": 29,
   "metadata": {},
   "outputs": [
    {
     "name": "stderr",
     "output_type": "stream",
     "text": [
      "/home/balde/anaconda3/lib/python3.8/site-packages/sklearn/linear_model/_logistic.py:762: ConvergenceWarning: lbfgs failed to converge (status=1):\n",
      "STOP: TOTAL NO. of ITERATIONS REACHED LIMIT.\n",
      "\n",
      "Increase the number of iterations (max_iter) or scale the data as shown in:\n",
      "    https://scikit-learn.org/stable/modules/preprocessing.html\n",
      "Please also refer to the documentation for alternative solver options:\n",
      "    https://scikit-learn.org/stable/modules/linear_model.html#logistic-regression\n",
      "  n_iter_i = _check_optimize_result(\n"
     ]
    },
    {
     "data": {
      "text/plain": [
       "LogisticRegression(max_iter=500)"
      ]
     },
     "execution_count": 29,
     "metadata": {},
     "output_type": "execute_result"
    }
   ],
   "source": [
    "logmodel = LogisticRegression(max_iter=500,)\n",
    "logmodel.fit(X_train,y_train)"
   ]
  },
  {
   "cell_type": "code",
   "execution_count": 30,
   "metadata": {},
   "outputs": [
    {
     "name": "stdout",
     "output_type": "stream",
     "text": [
      "Error rate of LogisticRegression:  0.6024\n"
     ]
    },
    {
     "data": {
      "text/plain": [
       "array([[534, 163, 160, 351],\n",
       "       [123, 270, 211, 156],\n",
       "       [ 20,  36,   9,  14],\n",
       "       [ 77, 158,  37, 181]])"
      ]
     },
     "execution_count": 30,
     "metadata": {},
     "output_type": "execute_result"
    }
   ],
   "source": [
    "from sklearn.metrics import accuracy_score,confusion_matrix\n",
    "y_pred = logmodel.predict(X_test)\n",
    "# Get error rate\n",
    "print(\"Error rate of LogisticRegression: \", 1 - accuracy_score(y_test, y_pred))\n",
    "\n",
    "# Get confusion matrix\n",
    "confusion_matrix(y_pred, y_test)\n"
   ]
  },
  {
   "cell_type": "code",
   "execution_count": null,
   "metadata": {},
   "outputs": [],
   "source": []
  },
  {
   "cell_type": "code",
   "execution_count": 37,
   "metadata": {},
   "outputs": [],
   "source": [
    "# import classification algorithm \n",
    "from sklearn.experimental import enable_hist_gradient_boosting\n",
    "from sklearn.ensemble import HistGradientBoostingClassifier\n",
    "from sklearn.ensemble import RandomForestClassifier\n",
    "from sklearn.neighbors import KNeighborsClassifier\n",
    "from sklearn.ensemble import GradientBoostingClassifier\n",
    "from sklearn.tree import DecisionTreeClassifier\n",
    "from sklearn.linear_model import LogisticRegression\n",
    "from sklearn.ensemble import BaggingClassifier\n",
    "from sklearn.ensemble import ExtraTreesClassifier\n",
    "from sklearn.svm import SVC\n",
    "from sklearn.linear_model import LogisticRegression\n",
    "# import cross valiadation method \n",
    "from sklearn.model_selection import cross_val_score"
   ]
  },
  {
   "cell_type": "code",
   "execution_count": 32,
   "metadata": {},
   "outputs": [
    {
     "name": "stdout",
     "output_type": "stream",
     "text": [
      "Train SVM\n",
      "List of scores for SVM: [0.306 0.306 0.306 0.306 0.306]\n",
      "The mean score for SVM: 0.306\n",
      "-------------The End------------------\n",
      "Train KNN\n",
      "List of scores for KNN: [0.28       0.28333333 0.26666667 0.26533333 0.27533333]\n",
      "The mean score for KNN: 0.27413333333333334\n",
      "-------------The End------------------\n",
      "Train RF\n",
      "List of scores for RF: [0.90933333 0.90066667 0.90933333 0.908      0.91333333]\n",
      "The mean score for RF: 0.9081333333333333\n",
      "-------------The End------------------\n",
      "Train GB\n",
      "List of scores for GB: [0.856      0.854      0.85533333 0.86533333 0.872     ]\n",
      "The mean score for GB: 0.8605333333333333\n",
      "-------------The End------------------\n",
      "Train DTC\n",
      "List of scores for DTC: [0.9        0.914      0.91733333 0.91933333 0.91133333]\n",
      "The mean score for DTC: 0.9124000000000001\n",
      "-------------The End------------------\n",
      "Train BC\n",
      "List of scores for BC: [0.92733333 0.93466667 0.92466667 0.93066667 0.93533333]\n",
      "The mean score for BC: 0.9305333333333333\n",
      "-------------The End------------------\n",
      "Train EXT\n",
      "List of scores for EXT: [0.84933333 0.834      0.85666667 0.85       0.872     ]\n",
      "The mean score for EXT: 0.8524\n",
      "-------------The End------------------\n",
      "Train HGB\n",
      "List of scores for HGB: [0.95533333 0.94333333 0.95266667 0.95266667 0.952     ]\n",
      "The mean score for HGB: 0.9512\n",
      "-------------The End------------------\n"
     ]
    }
   ],
   "source": [
    "models = {\n",
    "    \"SVM\": SVC(),\n",
    "    \"KNN\": KNeighborsClassifier(),\n",
    "    \"RF\": RandomForestClassifier(),\n",
    "    \"GB\": GradientBoostingClassifier(),\n",
    "    \"DTC\": DecisionTreeClassifier(),\n",
    "    \"BC\": BaggingClassifier(),\n",
    "    \"EXT\": ExtraTreesClassifier(),\n",
    "    \"HGB\": HistGradientBoostingClassifier()\n",
    "}\n",
    "\n",
    "\n",
    "\n",
    "for model_name, model in models.items():\n",
    "    print(\"Train {}\".format(model_name))\n",
    "    # cross_val_score for each classifier\n",
    "    scores = cross_val_score(model, X_train, y_train, cv=5, scoring='accuracy')\n",
    "\n",
    "    print(\"List of scores for {}: {}\".format(model_name, scores))\n",
    "    print(\"The mean score for {}: {}\".format(model_name, scores.mean()))\n",
    "    print(\"-------------The End------------------\")"
   ]
  },
  {
   "cell_type": "markdown",
   "metadata": {},
   "source": [
    "## Now some algorithm requre scaling of the data."
   ]
  },
  {
   "cell_type": "code",
   "execution_count": 33,
   "metadata": {},
   "outputs": [],
   "source": [
    "from sklearn.preprocessing import StandardScaler\n",
    "scaler = StandardScaler()"
   ]
  },
  {
   "cell_type": "code",
   "execution_count": 34,
   "metadata": {},
   "outputs": [],
   "source": [
    "X_scale = scaler.fit_transform(X_train)"
   ]
  },
  {
   "cell_type": "code",
   "execution_count": 38,
   "metadata": {},
   "outputs": [
    {
     "name": "stdout",
     "output_type": "stream",
     "text": [
      "Train LogR\n",
      "List of scores for LogR: [0.62533333 0.62733333 0.626      0.62466667 0.63933333]\n",
      "The mean score for LogR: 0.6285333333333334\n",
      "-------------The End------------------\n",
      "Train SVM\n",
      "List of scores for SVM: [0.852      0.85933333 0.85666667 0.844      0.842     ]\n",
      "The mean score for SVM: 0.8507999999999999\n",
      "-------------The End------------------\n",
      "Train KNN\n",
      "List of scores for KNN: [0.638      0.65333333 0.64133333 0.63933333 0.62866667]\n",
      "The mean score for KNN: 0.6401333333333333\n",
      "-------------The End------------------\n",
      "Train RF\n",
      "List of scores for RF: [0.91466667 0.89533333 0.91266667 0.90733333 0.90933333]\n",
      "The mean score for RF: 0.9078666666666667\n",
      "-------------The End------------------\n",
      "Train GB\n",
      "List of scores for GB: [0.856      0.854      0.856      0.86533333 0.872     ]\n",
      "The mean score for GB: 0.8606666666666666\n",
      "-------------The End------------------\n",
      "Train DTC\n",
      "List of scores for DTC: [0.90266667 0.91533333 0.91533333 0.91666667 0.92      ]\n",
      "The mean score for DTC: 0.914\n",
      "-------------The End------------------\n",
      "Train BC\n",
      "List of scores for BC: [0.92266667 0.938      0.932      0.93533333 0.92933333]\n",
      "The mean score for BC: 0.9314666666666666\n",
      "-------------The End------------------\n",
      "Train EXT\n",
      "List of scores for EXT: [0.854      0.852      0.84066667 0.838      0.86066667]\n",
      "The mean score for EXT: 0.8490666666666667\n",
      "-------------The End------------------\n",
      "Train HGB\n",
      "List of scores for HGB: [0.95533333 0.94333333 0.95266667 0.95266667 0.952     ]\n",
      "The mean score for HGB: 0.9512\n",
      "-------------The End------------------\n"
     ]
    }
   ],
   "source": [
    "models = {\n",
    "    \"LogR\":LogisticRegression(),\n",
    "    \"SVM\": SVC(),\n",
    "    \"KNN\": KNeighborsClassifier(),\n",
    "    \"RF\": RandomForestClassifier(),\n",
    "    \"GB\": GradientBoostingClassifier(),\n",
    "    \"DTC\": DecisionTreeClassifier(),\n",
    "    \"BC\": BaggingClassifier(),\n",
    "    \"EXT\": ExtraTreesClassifier(),\n",
    "    \"HGB\": HistGradientBoostingClassifier()\n",
    "}\n",
    "\n",
    "\n",
    "\n",
    "for model_name, model in models.items():\n",
    "    print(\"Train {}\".format(model_name))\n",
    "    # cross_val_score for each classifier\n",
    "    scores = cross_val_score(model, X_scale, y_train, cv=5, scoring='accuracy')\n",
    "\n",
    "    print(\"List of scores for {}: {}\".format(model_name, scores))\n",
    "    print(\"The mean score for {}: {}\".format(model_name, scores.mean()))\n",
    "    print(\"-------------The End------------------\")"
   ]
  },
  {
   "cell_type": "markdown",
   "metadata": {},
   "source": [
    "## Now let's us perform gridsearch"
   ]
  },
  {
   "cell_type": "code",
   "execution_count": 39,
   "metadata": {},
   "outputs": [],
   "source": [
    "from sklearn.model_selection import GridSearchCV"
   ]
  },
  {
   "cell_type": "code",
   "execution_count": 44,
   "metadata": {},
   "outputs": [
    {
     "name": "stdout",
     "output_type": "stream",
     "text": [
      "Fitting 5 folds for each of 24 candidates, totalling 120 fits\n",
      "[CV] learning_rate=0.1, max_depth=3, max_iter=100 ....................\n"
     ]
    },
    {
     "name": "stderr",
     "output_type": "stream",
     "text": [
      "[Parallel(n_jobs=1)]: Using backend SequentialBackend with 1 concurrent workers.\n"
     ]
    },
    {
     "name": "stdout",
     "output_type": "stream",
     "text": [
      "[CV]  learning_rate=0.1, max_depth=3, max_iter=100, score=0.877, total=   0.8s\n",
      "[CV] learning_rate=0.1, max_depth=3, max_iter=100 ....................\n"
     ]
    },
    {
     "name": "stderr",
     "output_type": "stream",
     "text": [
      "[Parallel(n_jobs=1)]: Done   1 out of   1 | elapsed:    0.8s remaining:    0.0s\n"
     ]
    },
    {
     "name": "stdout",
     "output_type": "stream",
     "text": [
      "[CV]  learning_rate=0.1, max_depth=3, max_iter=100, score=0.893, total=   0.7s\n",
      "[CV] learning_rate=0.1, max_depth=3, max_iter=100 ....................\n"
     ]
    },
    {
     "name": "stderr",
     "output_type": "stream",
     "text": [
      "[Parallel(n_jobs=1)]: Done   2 out of   2 | elapsed:    1.5s remaining:    0.0s\n"
     ]
    },
    {
     "name": "stdout",
     "output_type": "stream",
     "text": [
      "[CV]  learning_rate=0.1, max_depth=3, max_iter=100, score=0.901, total=   0.7s\n",
      "[CV] learning_rate=0.1, max_depth=3, max_iter=100 ....................\n",
      "[CV]  learning_rate=0.1, max_depth=3, max_iter=100, score=0.900, total=   0.7s\n",
      "[CV] learning_rate=0.1, max_depth=3, max_iter=100 ....................\n",
      "[CV]  learning_rate=0.1, max_depth=3, max_iter=100, score=0.897, total=   0.7s\n",
      "[CV] learning_rate=0.1, max_depth=3, max_iter=300 ....................\n",
      "[CV]  learning_rate=0.1, max_depth=3, max_iter=300, score=0.940, total=   2.1s\n",
      "[CV] learning_rate=0.1, max_depth=3, max_iter=300 ....................\n",
      "[CV]  learning_rate=0.1, max_depth=3, max_iter=300, score=0.935, total=   2.0s\n",
      "[CV] learning_rate=0.1, max_depth=3, max_iter=300 ....................\n",
      "[CV]  learning_rate=0.1, max_depth=3, max_iter=300, score=0.930, total=   2.1s\n",
      "[CV] learning_rate=0.1, max_depth=3, max_iter=300 ....................\n",
      "[CV]  learning_rate=0.1, max_depth=3, max_iter=300, score=0.942, total=   2.3s\n",
      "[CV] learning_rate=0.1, max_depth=3, max_iter=300 ....................\n",
      "[CV]  learning_rate=0.1, max_depth=3, max_iter=300, score=0.944, total=   2.1s\n",
      "[CV] learning_rate=0.1, max_depth=3, max_iter=700 ....................\n",
      "[CV]  learning_rate=0.1, max_depth=3, max_iter=700, score=0.951, total=   4.8s\n",
      "[CV] learning_rate=0.1, max_depth=3, max_iter=700 ....................\n",
      "[CV]  learning_rate=0.1, max_depth=3, max_iter=700, score=0.944, total=   4.9s\n",
      "[CV] learning_rate=0.1, max_depth=3, max_iter=700 ....................\n",
      "[CV]  learning_rate=0.1, max_depth=3, max_iter=700, score=0.939, total=   4.7s\n",
      "[CV] learning_rate=0.1, max_depth=3, max_iter=700 ....................\n",
      "[CV]  learning_rate=0.1, max_depth=3, max_iter=700, score=0.947, total=   4.7s\n",
      "[CV] learning_rate=0.1, max_depth=3, max_iter=700 ....................\n",
      "[CV]  learning_rate=0.1, max_depth=3, max_iter=700, score=0.953, total=   4.9s\n",
      "[CV] learning_rate=0.1, max_depth=4, max_iter=100 ....................\n",
      "[CV]  learning_rate=0.1, max_depth=4, max_iter=100, score=0.936, total=   1.1s\n",
      "[CV] learning_rate=0.1, max_depth=4, max_iter=100 ....................\n",
      "[CV]  learning_rate=0.1, max_depth=4, max_iter=100, score=0.931, total=   1.2s\n",
      "[CV] learning_rate=0.1, max_depth=4, max_iter=100 ....................\n",
      "[CV]  learning_rate=0.1, max_depth=4, max_iter=100, score=0.933, total=   1.1s\n",
      "[CV] learning_rate=0.1, max_depth=4, max_iter=100 ....................\n",
      "[CV]  learning_rate=0.1, max_depth=4, max_iter=100, score=0.936, total=   1.2s\n",
      "[CV] learning_rate=0.1, max_depth=4, max_iter=100 ....................\n",
      "[CV]  learning_rate=0.1, max_depth=4, max_iter=100, score=0.940, total=   1.2s\n",
      "[CV] learning_rate=0.1, max_depth=4, max_iter=300 ....................\n",
      "[CV]  learning_rate=0.1, max_depth=4, max_iter=300, score=0.944, total=   3.3s\n",
      "[CV] learning_rate=0.1, max_depth=4, max_iter=300 ....................\n",
      "[CV]  learning_rate=0.1, max_depth=4, max_iter=300, score=0.944, total=   3.3s\n",
      "[CV] learning_rate=0.1, max_depth=4, max_iter=300 ....................\n",
      "[CV]  learning_rate=0.1, max_depth=4, max_iter=300, score=0.943, total=   3.4s\n",
      "[CV] learning_rate=0.1, max_depth=4, max_iter=300 ....................\n",
      "[CV]  learning_rate=0.1, max_depth=4, max_iter=300, score=0.947, total=   3.3s\n",
      "[CV] learning_rate=0.1, max_depth=4, max_iter=300 ....................\n",
      "[CV]  learning_rate=0.1, max_depth=4, max_iter=300, score=0.950, total=   3.3s\n",
      "[CV] learning_rate=0.1, max_depth=4, max_iter=700 ....................\n",
      "[CV]  learning_rate=0.1, max_depth=4, max_iter=700, score=0.951, total=   7.8s\n",
      "[CV] learning_rate=0.1, max_depth=4, max_iter=700 ....................\n",
      "[CV]  learning_rate=0.1, max_depth=4, max_iter=700, score=0.947, total=   8.1s\n",
      "[CV] learning_rate=0.1, max_depth=4, max_iter=700 ....................\n",
      "[CV]  learning_rate=0.1, max_depth=4, max_iter=700, score=0.949, total=   9.5s\n",
      "[CV] learning_rate=0.1, max_depth=4, max_iter=700 ....................\n",
      "[CV]  learning_rate=0.1, max_depth=4, max_iter=700, score=0.951, total=   8.3s\n",
      "[CV] learning_rate=0.1, max_depth=4, max_iter=700 ....................\n",
      "[CV]  learning_rate=0.1, max_depth=4, max_iter=700, score=0.953, total=   9.8s\n",
      "[CV] learning_rate=0.1, max_depth=5, max_iter=100 ....................\n",
      "[CV]  learning_rate=0.1, max_depth=5, max_iter=100, score=0.947, total=   1.9s\n",
      "[CV] learning_rate=0.1, max_depth=5, max_iter=100 ....................\n",
      "[CV]  learning_rate=0.1, max_depth=5, max_iter=100, score=0.942, total=   2.6s\n",
      "[CV] learning_rate=0.1, max_depth=5, max_iter=100 ....................\n",
      "[CV]  learning_rate=0.1, max_depth=5, max_iter=100, score=0.940, total=   3.3s\n",
      "[CV] learning_rate=0.1, max_depth=5, max_iter=100 ....................\n",
      "[CV]  learning_rate=0.1, max_depth=5, max_iter=100, score=0.953, total=   1.9s\n",
      "[CV] learning_rate=0.1, max_depth=5, max_iter=100 ....................\n",
      "[CV]  learning_rate=0.1, max_depth=5, max_iter=100, score=0.951, total=   2.4s\n",
      "[CV] learning_rate=0.1, max_depth=5, max_iter=300 ....................\n",
      "[CV]  learning_rate=0.1, max_depth=5, max_iter=300, score=0.949, total=   6.0s\n",
      "[CV] learning_rate=0.1, max_depth=5, max_iter=300 ....................\n",
      "[CV]  learning_rate=0.1, max_depth=5, max_iter=300, score=0.950, total=   5.4s\n",
      "[CV] learning_rate=0.1, max_depth=5, max_iter=300 ....................\n",
      "[CV]  learning_rate=0.1, max_depth=5, max_iter=300, score=0.948, total=   6.8s\n",
      "[CV] learning_rate=0.1, max_depth=5, max_iter=300 ....................\n",
      "[CV]  learning_rate=0.1, max_depth=5, max_iter=300, score=0.952, total=   6.8s\n",
      "[CV] learning_rate=0.1, max_depth=5, max_iter=300 ....................\n",
      "[CV]  learning_rate=0.1, max_depth=5, max_iter=300, score=0.951, total=   5.9s\n",
      "[CV] learning_rate=0.1, max_depth=5, max_iter=700 ....................\n",
      "[CV]  learning_rate=0.1, max_depth=5, max_iter=700, score=0.955, total=  13.4s\n",
      "[CV] learning_rate=0.1, max_depth=5, max_iter=700 ....................\n",
      "[CV]  learning_rate=0.1, max_depth=5, max_iter=700, score=0.952, total=  12.9s\n",
      "[CV] learning_rate=0.1, max_depth=5, max_iter=700 ....................\n",
      "[CV]  learning_rate=0.1, max_depth=5, max_iter=700, score=0.955, total=  11.6s\n",
      "[CV] learning_rate=0.1, max_depth=5, max_iter=700 ....................\n",
      "[CV]  learning_rate=0.1, max_depth=5, max_iter=700, score=0.952, total=  11.8s\n",
      "[CV] learning_rate=0.1, max_depth=5, max_iter=700 ....................\n",
      "[CV]  learning_rate=0.1, max_depth=5, max_iter=700, score=0.958, total=  12.0s\n",
      "[CV] learning_rate=0.1, max_depth=7, max_iter=100 ....................\n",
      "[CV]  learning_rate=0.1, max_depth=7, max_iter=100, score=0.949, total=   2.8s\n",
      "[CV] learning_rate=0.1, max_depth=7, max_iter=100 ....................\n",
      "[CV]  learning_rate=0.1, max_depth=7, max_iter=100, score=0.948, total=   2.8s\n",
      "[CV] learning_rate=0.1, max_depth=7, max_iter=100 ....................\n",
      "[CV]  learning_rate=0.1, max_depth=7, max_iter=100, score=0.949, total=   3.0s\n",
      "[CV] learning_rate=0.1, max_depth=7, max_iter=100 ....................\n",
      "[CV]  learning_rate=0.1, max_depth=7, max_iter=100, score=0.952, total=   3.2s\n",
      "[CV] learning_rate=0.1, max_depth=7, max_iter=100 ....................\n",
      "[CV]  learning_rate=0.1, max_depth=7, max_iter=100, score=0.946, total=   2.9s\n",
      "[CV] learning_rate=0.1, max_depth=7, max_iter=300 ....................\n",
      "[CV]  learning_rate=0.1, max_depth=7, max_iter=300, score=0.956, total=   8.7s\n",
      "[CV] learning_rate=0.1, max_depth=7, max_iter=300 ....................\n",
      "[CV]  learning_rate=0.1, max_depth=7, max_iter=300, score=0.951, total=   8.4s\n",
      "[CV] learning_rate=0.1, max_depth=7, max_iter=300 ....................\n",
      "[CV]  learning_rate=0.1, max_depth=7, max_iter=300, score=0.953, total=   8.5s\n",
      "[CV] learning_rate=0.1, max_depth=7, max_iter=300 ....................\n",
      "[CV]  learning_rate=0.1, max_depth=7, max_iter=300, score=0.950, total=   9.4s\n",
      "[CV] learning_rate=0.1, max_depth=7, max_iter=300 ....................\n",
      "[CV]  learning_rate=0.1, max_depth=7, max_iter=300, score=0.953, total=   8.2s\n",
      "[CV] learning_rate=0.1, max_depth=7, max_iter=700 ....................\n",
      "[CV]  learning_rate=0.1, max_depth=7, max_iter=700, score=0.954, total=  13.4s\n",
      "[CV] learning_rate=0.1, max_depth=7, max_iter=700 ....................\n",
      "[CV]  learning_rate=0.1, max_depth=7, max_iter=700, score=0.949, total=  13.3s\n",
      "[CV] learning_rate=0.1, max_depth=7, max_iter=700 ....................\n",
      "[CV]  learning_rate=0.1, max_depth=7, max_iter=700, score=0.952, total=  11.9s\n",
      "[CV] learning_rate=0.1, max_depth=7, max_iter=700 ....................\n",
      "[CV]  learning_rate=0.1, max_depth=7, max_iter=700, score=0.950, total=  12.7s\n",
      "[CV] learning_rate=0.1, max_depth=7, max_iter=700 ....................\n",
      "[CV]  learning_rate=0.1, max_depth=7, max_iter=700, score=0.959, total=  12.8s\n",
      "[CV] learning_rate=0.05, max_depth=3, max_iter=100 ...................\n",
      "[CV]  learning_rate=0.05, max_depth=3, max_iter=100, score=0.837, total=   0.8s\n",
      "[CV] learning_rate=0.05, max_depth=3, max_iter=100 ...................\n",
      "[CV]  learning_rate=0.05, max_depth=3, max_iter=100, score=0.833, total=   0.8s\n",
      "[CV] learning_rate=0.05, max_depth=3, max_iter=100 ...................\n",
      "[CV]  learning_rate=0.05, max_depth=3, max_iter=100, score=0.832, total=   0.7s\n",
      "[CV] learning_rate=0.05, max_depth=3, max_iter=100 ...................\n",
      "[CV]  learning_rate=0.05, max_depth=3, max_iter=100, score=0.837, total=   0.7s\n",
      "[CV] learning_rate=0.05, max_depth=3, max_iter=100 ...................\n",
      "[CV]  learning_rate=0.05, max_depth=3, max_iter=100, score=0.834, total=   0.8s\n",
      "[CV] learning_rate=0.05, max_depth=3, max_iter=300 ...................\n",
      "[CV]  learning_rate=0.05, max_depth=3, max_iter=300, score=0.913, total=   2.1s\n",
      "[CV] learning_rate=0.05, max_depth=3, max_iter=300 ...................\n",
      "[CV]  learning_rate=0.05, max_depth=3, max_iter=300, score=0.917, total=   2.0s\n",
      "[CV] learning_rate=0.05, max_depth=3, max_iter=300 ...................\n",
      "[CV]  learning_rate=0.05, max_depth=3, max_iter=300, score=0.915, total=   2.0s\n",
      "[CV] learning_rate=0.05, max_depth=3, max_iter=300 ...................\n",
      "[CV]  learning_rate=0.05, max_depth=3, max_iter=300, score=0.913, total=   2.2s\n",
      "[CV] learning_rate=0.05, max_depth=3, max_iter=300 ...................\n",
      "[CV]  learning_rate=0.05, max_depth=3, max_iter=300, score=0.906, total=   2.1s\n",
      "[CV] learning_rate=0.05, max_depth=3, max_iter=700 ...................\n",
      "[CV]  learning_rate=0.05, max_depth=3, max_iter=700, score=0.947, total=   4.9s\n",
      "[CV] learning_rate=0.05, max_depth=3, max_iter=700 ...................\n",
      "[CV]  learning_rate=0.05, max_depth=3, max_iter=700, score=0.934, total=   4.8s\n",
      "[CV] learning_rate=0.05, max_depth=3, max_iter=700 ...................\n",
      "[CV]  learning_rate=0.05, max_depth=3, max_iter=700, score=0.933, total=   4.6s\n",
      "[CV] learning_rate=0.05, max_depth=3, max_iter=700 ...................\n",
      "[CV]  learning_rate=0.05, max_depth=3, max_iter=700, score=0.948, total=   4.8s\n",
      "[CV] learning_rate=0.05, max_depth=3, max_iter=700 ...................\n",
      "[CV]  learning_rate=0.05, max_depth=3, max_iter=700, score=0.935, total=   4.7s\n",
      "[CV] learning_rate=0.05, max_depth=4, max_iter=100 ...................\n",
      "[CV]  learning_rate=0.05, max_depth=4, max_iter=100, score=0.904, total=   1.2s\n",
      "[CV] learning_rate=0.05, max_depth=4, max_iter=100 ...................\n",
      "[CV]  learning_rate=0.05, max_depth=4, max_iter=100, score=0.906, total=   1.2s\n",
      "[CV] learning_rate=0.05, max_depth=4, max_iter=100 ...................\n",
      "[CV]  learning_rate=0.05, max_depth=4, max_iter=100, score=0.911, total=   1.3s\n",
      "[CV] learning_rate=0.05, max_depth=4, max_iter=100 ...................\n",
      "[CV]  learning_rate=0.05, max_depth=4, max_iter=100, score=0.908, total=   1.2s\n",
      "[CV] learning_rate=0.05, max_depth=4, max_iter=100 ...................\n",
      "[CV]  learning_rate=0.05, max_depth=4, max_iter=100, score=0.923, total=   1.2s\n",
      "[CV] learning_rate=0.05, max_depth=4, max_iter=300 ...................\n",
      "[CV]  learning_rate=0.05, max_depth=4, max_iter=300, score=0.939, total=   3.2s\n",
      "[CV] learning_rate=0.05, max_depth=4, max_iter=300 ...................\n",
      "[CV]  learning_rate=0.05, max_depth=4, max_iter=300, score=0.938, total=   4.0s\n",
      "[CV] learning_rate=0.05, max_depth=4, max_iter=300 ...................\n",
      "[CV]  learning_rate=0.05, max_depth=4, max_iter=300, score=0.935, total=   3.2s\n",
      "[CV] learning_rate=0.05, max_depth=4, max_iter=300 ...................\n",
      "[CV]  learning_rate=0.05, max_depth=4, max_iter=300, score=0.944, total=   3.7s\n",
      "[CV] learning_rate=0.05, max_depth=4, max_iter=300 ...................\n",
      "[CV]  learning_rate=0.05, max_depth=4, max_iter=300, score=0.941, total=   3.4s\n",
      "[CV] learning_rate=0.05, max_depth=4, max_iter=700 ...................\n",
      "[CV]  learning_rate=0.05, max_depth=4, max_iter=700, score=0.946, total=   7.7s\n",
      "[CV] learning_rate=0.05, max_depth=4, max_iter=700 ...................\n",
      "[CV]  learning_rate=0.05, max_depth=4, max_iter=700, score=0.945, total=   7.7s\n",
      "[CV] learning_rate=0.05, max_depth=4, max_iter=700 ...................\n",
      "[CV]  learning_rate=0.05, max_depth=4, max_iter=700, score=0.941, total=   7.6s\n",
      "[CV] learning_rate=0.05, max_depth=4, max_iter=700 ...................\n",
      "[CV]  learning_rate=0.05, max_depth=4, max_iter=700, score=0.947, total=   7.6s\n",
      "[CV] learning_rate=0.05, max_depth=4, max_iter=700 ...................\n",
      "[CV]  learning_rate=0.05, max_depth=4, max_iter=700, score=0.951, total=   7.7s\n",
      "[CV] learning_rate=0.05, max_depth=5, max_iter=100 ...................\n",
      "[CV]  learning_rate=0.05, max_depth=5, max_iter=100, score=0.933, total=   1.8s\n",
      "[CV] learning_rate=0.05, max_depth=5, max_iter=100 ...................\n",
      "[CV]  learning_rate=0.05, max_depth=5, max_iter=100, score=0.935, total=   1.8s\n",
      "[CV] learning_rate=0.05, max_depth=5, max_iter=100 ...................\n",
      "[CV]  learning_rate=0.05, max_depth=5, max_iter=100, score=0.930, total=   1.8s\n",
      "[CV] learning_rate=0.05, max_depth=5, max_iter=100 ...................\n",
      "[CV]  learning_rate=0.05, max_depth=5, max_iter=100, score=0.948, total=   2.0s\n",
      "[CV] learning_rate=0.05, max_depth=5, max_iter=100 ...................\n",
      "[CV]  learning_rate=0.05, max_depth=5, max_iter=100, score=0.945, total=   1.9s\n",
      "[CV] learning_rate=0.05, max_depth=5, max_iter=300 ...................\n",
      "[CV]  learning_rate=0.05, max_depth=5, max_iter=300, score=0.949, total=   5.0s\n",
      "[CV] learning_rate=0.05, max_depth=5, max_iter=300 ...................\n",
      "[CV]  learning_rate=0.05, max_depth=5, max_iter=300, score=0.945, total=   5.2s\n",
      "[CV] learning_rate=0.05, max_depth=5, max_iter=300 ...................\n",
      "[CV]  learning_rate=0.05, max_depth=5, max_iter=300, score=0.948, total=   4.9s\n",
      "[CV] learning_rate=0.05, max_depth=5, max_iter=300 ...................\n",
      "[CV]  learning_rate=0.05, max_depth=5, max_iter=300, score=0.952, total=   6.8s\n",
      "[CV] learning_rate=0.05, max_depth=5, max_iter=300 ...................\n",
      "[CV]  learning_rate=0.05, max_depth=5, max_iter=300, score=0.951, total=   6.8s\n",
      "[CV] learning_rate=0.05, max_depth=5, max_iter=700 ...................\n",
      "[CV]  learning_rate=0.05, max_depth=5, max_iter=700, score=0.953, total=  14.2s\n",
      "[CV] learning_rate=0.05, max_depth=5, max_iter=700 ...................\n",
      "[CV]  learning_rate=0.05, max_depth=5, max_iter=700, score=0.944, total=  13.8s\n",
      "[CV] learning_rate=0.05, max_depth=5, max_iter=700 ...................\n",
      "[CV]  learning_rate=0.05, max_depth=5, max_iter=700, score=0.951, total=  14.6s\n",
      "[CV] learning_rate=0.05, max_depth=5, max_iter=700 ...................\n",
      "[CV]  learning_rate=0.05, max_depth=5, max_iter=700, score=0.951, total=  13.9s\n",
      "[CV] learning_rate=0.05, max_depth=5, max_iter=700 ...................\n",
      "[CV]  learning_rate=0.05, max_depth=5, max_iter=700, score=0.958, total=  13.9s\n",
      "[CV] learning_rate=0.05, max_depth=7, max_iter=100 ...................\n",
      "[CV]  learning_rate=0.05, max_depth=7, max_iter=100, score=0.947, total=   2.6s\n",
      "[CV] learning_rate=0.05, max_depth=7, max_iter=100 ...................\n",
      "[CV]  learning_rate=0.05, max_depth=7, max_iter=100, score=0.949, total=   2.6s\n",
      "[CV] learning_rate=0.05, max_depth=7, max_iter=100 ...................\n",
      "[CV]  learning_rate=0.05, max_depth=7, max_iter=100, score=0.942, total=   2.5s\n",
      "[CV] learning_rate=0.05, max_depth=7, max_iter=100 ...................\n",
      "[CV]  learning_rate=0.05, max_depth=7, max_iter=100, score=0.951, total=   2.6s\n",
      "[CV] learning_rate=0.05, max_depth=7, max_iter=100 ...................\n",
      "[CV]  learning_rate=0.05, max_depth=7, max_iter=100, score=0.943, total=   2.5s\n",
      "[CV] learning_rate=0.05, max_depth=7, max_iter=300 ...................\n",
      "[CV]  learning_rate=0.05, max_depth=7, max_iter=300, score=0.956, total=   7.3s\n",
      "[CV] learning_rate=0.05, max_depth=7, max_iter=300 ...................\n",
      "[CV]  learning_rate=0.05, max_depth=7, max_iter=300, score=0.951, total=   7.4s\n",
      "[CV] learning_rate=0.05, max_depth=7, max_iter=300 ...................\n",
      "[CV]  learning_rate=0.05, max_depth=7, max_iter=300, score=0.953, total=   8.3s\n",
      "[CV] learning_rate=0.05, max_depth=7, max_iter=300 ...................\n",
      "[CV]  learning_rate=0.05, max_depth=7, max_iter=300, score=0.951, total=   8.3s\n",
      "[CV] learning_rate=0.05, max_depth=7, max_iter=300 ...................\n",
      "[CV]  learning_rate=0.05, max_depth=7, max_iter=300, score=0.953, total=   8.5s\n",
      "[CV] learning_rate=0.05, max_depth=7, max_iter=700 ...................\n",
      "[CV]  learning_rate=0.05, max_depth=7, max_iter=700, score=0.955, total=  17.9s\n",
      "[CV] learning_rate=0.05, max_depth=7, max_iter=700 ...................\n",
      "[CV]  learning_rate=0.05, max_depth=7, max_iter=700, score=0.951, total=  18.7s\n",
      "[CV] learning_rate=0.05, max_depth=7, max_iter=700 ...................\n",
      "[CV]  learning_rate=0.05, max_depth=7, max_iter=700, score=0.956, total=  16.9s\n",
      "[CV] learning_rate=0.05, max_depth=7, max_iter=700 ...................\n",
      "[CV]  learning_rate=0.05, max_depth=7, max_iter=700, score=0.950, total=  17.0s\n",
      "[CV] learning_rate=0.05, max_depth=7, max_iter=700 ...................\n",
      "[CV]  learning_rate=0.05, max_depth=7, max_iter=700, score=0.955, total=  16.9s\n"
     ]
    },
    {
     "name": "stderr",
     "output_type": "stream",
     "text": [
      "[Parallel(n_jobs=1)]: Done 120 out of 120 | elapsed: 11.3min finished\n"
     ]
    },
    {
     "data": {
      "text/plain": [
       "GridSearchCV(cv=5, estimator=HistGradientBoostingClassifier(),\n",
       "             param_grid={'learning_rate': [0.1, 0.05],\n",
       "                         'max_depth': [3, 4, 5, 7],\n",
       "                         'max_iter': [100, 300, 700]},\n",
       "             verbose=3)"
      ]
     },
     "execution_count": 44,
     "metadata": {},
     "output_type": "execute_result"
    }
   ],
   "source": [
    "my_model = HistGradientBoostingClassifier()\n",
    "\n",
    "\n",
    "# Optimize model paramaters \n",
    "\n",
    "param_grid = {'learning_rate': [0.1, 0.05],\n",
    "              'max_iter':[100,300,700],\n",
    "        'max_depth': [3, 4, 5,7]\n",
    "        }\n",
    "model_hgb = GridSearchCV(my_model, param_grid,cv=5, verbose=3)\n",
    "\n",
    "#train to find the best parameters \n",
    "model_hgb.fit(X_train, y_train)"
   ]
  },
  {
   "cell_type": "code",
   "execution_count": null,
   "metadata": {},
   "outputs": [],
   "source": []
  }
 ],
 "metadata": {
  "kernelspec": {
   "display_name": "Python 3",
   "language": "python",
   "name": "python3"
  },
  "language_info": {
   "codemirror_mode": {
    "name": "ipython",
    "version": 3
   },
   "file_extension": ".py",
   "mimetype": "text/x-python",
   "name": "python",
   "nbconvert_exporter": "python",
   "pygments_lexer": "ipython3",
   "version": "3.8.5"
  }
 },
 "nbformat": 4,
 "nbformat_minor": 4
}
